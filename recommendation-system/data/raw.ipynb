{
 "cells": [
  {
   "cell_type": "code",
   "execution_count": 1,
   "metadata": {},
   "outputs": [
    {
     "name": "stdout",
     "output_type": "stream",
     "text": [
      "                        _id                    userId    total  \\\n",
      "0  675c17a1c4ececd6975a1366  67380b7e7aeace665cb09214   100000   \n",
      "1  675c1838c4ececd6975a136d  67380b7e7aeace665cb09214   100000   \n",
      "2  675c183dc4ececd6975a1371  67380b7e7aeace665cb09214   500000   \n",
      "3  675c1841c4ececd6975a1375  67380b7e7aeace665cb09214   300000   \n",
      "4  675c1845c4ececd6975a1379  67380b7e7aeace665cb09214   300000   \n",
      "5  675c1927c4ececd6975a1380  67380b7e7aeace665cb09214   345000   \n",
      "6  675c1b5e0ae55cf2eba31a8d  67380b7e7aeace665cb09214  3456789   \n",
      "\n",
      "            paymentDetailId            orderAddressId  shippingFee  \\\n",
      "0  675c1625c4ececd6975a1359  675c1733c4ececd6975a135e        10000   \n",
      "1  675c1625c4ececd6975a1359  675c1733c4ececd6975a135e         1000   \n",
      "2  675c1625c4ececd6975a1359  675c1733c4ececd6975a135e         1000   \n",
      "3  675c1625c4ececd6975a1359  675c1733c4ececd6975a135e         1000   \n",
      "4  675c1625c4ececd6975a1359  675c1733c4ececd6975a135e         2000   \n",
      "5  675c1625c4ececd6975a1359  675c1733c4ececd6975a135e         2000   \n",
      "6  675c1625c4ececd6975a1359  675c1733c4ececd6975a135e         2000   \n",
      "\n",
      "              createdDate  __v  \n",
      "0 2024-12-13 11:16:49.787    0  \n",
      "1 2024-12-13 11:19:20.160    0  \n",
      "2 2024-12-13 11:19:25.608    0  \n",
      "3 2024-12-13 11:19:29.425    0  \n",
      "4 2024-12-13 11:19:33.358    0  \n",
      "5 2024-12-13 11:23:19.136    0  \n",
      "6 2024-12-13 11:32:46.040    0  \n"
     ]
    }
   ],
   "source": [
    "from pymongo import MongoClient\n",
    "import pandas as pd\n",
    "\n",
    "client = MongoClient('mongodb://localhost:27017/')\n",
    "db = client['fashionspace']\n",
    "\n",
    "orders = pd.DataFrame(list(db.orders.find()))\n",
    "products = pd.DataFrame(list(db.products.find()))\n",
    "orderdetails = pd.DataFrame(list(db.orderdetails.find()))\n",
    "\n",
    "print(orders)\n"
   ]
  }
 ],
 "metadata": {
  "kernelspec": {
   "display_name": "Python 3",
   "language": "python",
   "name": "python3"
  },
  "language_info": {
   "codemirror_mode": {
    "name": "ipython",
    "version": 3
   },
   "file_extension": ".py",
   "mimetype": "text/x-python",
   "name": "python",
   "nbconvert_exporter": "python",
   "pygments_lexer": "ipython3",
   "version": "3.13.1"
  }
 },
 "nbformat": 4,
 "nbformat_minor": 2
}
